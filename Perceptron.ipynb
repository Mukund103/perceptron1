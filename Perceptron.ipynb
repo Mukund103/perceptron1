{
  "nbformat": 4,
  "nbformat_minor": 0,
  "metadata": {
    "colab": {
      "name": "Perceptron.ipynb",
      "provenance": [],
      "authorship_tag": "ABX9TyMbfvZTHv58Q2Wj0MTqufkA",
      "include_colab_link": true
    },
    "kernelspec": {
      "name": "python3",
      "display_name": "Python 3"
    }
  },
  "cells": [
    {
      "cell_type": "markdown",
      "metadata": {
        "id": "view-in-github",
        "colab_type": "text"
      },
      "source": [
        "<a href=\"https://colab.research.google.com/github/Mukund103/perceptron1/blob/master/Perceptron.ipynb\" target=\"_parent\"><img src=\"https://colab.research.google.com/assets/colab-badge.svg\" alt=\"Open In Colab\"/></a>"
      ]
    },
    {
      "cell_type": "code",
      "metadata": {
        "id": "SGNB1izILsGK",
        "colab_type": "code",
        "colab": {}
      },
      "source": [
        "import keras"
      ],
      "execution_count": 0,
      "outputs": []
    },
    {
      "cell_type": "code",
      "metadata": {
        "id": "Z7aVmB2BMLCM",
        "colab_type": "code",
        "colab": {}
      },
      "source": [
        ""
      ],
      "execution_count": 0,
      "outputs": []
    },
    {
      "cell_type": "code",
      "metadata": {
        "id": "fhbgpbkbZ_I3",
        "colab_type": "code",
        "colab": {}
      },
      "source": [
        "from keras.models import Sequential"
      ],
      "execution_count": 0,
      "outputs": []
    },
    {
      "cell_type": "code",
      "metadata": {
        "id": "1JNY5h8maUfE",
        "colab_type": "code",
        "colab": {}
      },
      "source": [
        "from keras.layers import Dense"
      ],
      "execution_count": 0,
      "outputs": []
    },
    {
      "cell_type": "code",
      "metadata": {
        "id": "UPedXjcsacZI",
        "colab_type": "code",
        "colab": {}
      },
      "source": [
        "model = Sequential()"
      ],
      "execution_count": 0,
      "outputs": []
    },
    {
      "cell_type": "code",
      "metadata": {
        "id": "awjKobpZdtLn",
        "colab_type": "code",
        "colab": {}
      },
      "source": [
        "model.add(Dense(units=1 , input_shape=(1,)  ))"
      ],
      "execution_count": 0,
      "outputs": []
    },
    {
      "cell_type": "code",
      "metadata": {
        "id": "GxLdKgvcdx6T",
        "colab_type": "code",
        "colab": {
          "base_uri": "https://localhost:8080/",
          "height": 185
        },
        "outputId": "a207b380-f2d1-4810-a37f-ac4fed00b0e8"
      },
      "source": [
        "model.summary()"
      ],
      "execution_count": 15,
      "outputs": [
        {
          "output_type": "stream",
          "text": [
            "Model: \"sequential_1\"\n",
            "_________________________________________________________________\n",
            "Layer (type)                 Output Shape              Param #   \n",
            "=================================================================\n",
            "dense_1 (Dense)              (None, 1)                 2         \n",
            "=================================================================\n",
            "Total params: 2\n",
            "Trainable params: 2\n",
            "Non-trainable params: 0\n",
            "_________________________________________________________________\n"
          ],
          "name": "stdout"
        }
      ]
    },
    {
      "cell_type": "code",
      "metadata": {
        "id": "6_WLYQfDd1JL",
        "colab_type": "code",
        "colab": {}
      },
      "source": [
        "from keras.utils import plot_model"
      ],
      "execution_count": 0,
      "outputs": []
    },
    {
      "cell_type": "code",
      "metadata": {
        "id": "GZfSx0dSeISN",
        "colab_type": "code",
        "colab": {
          "base_uri": "https://localhost:8080/",
          "height": 201
        },
        "outputId": "6177c049-1e7e-4818-ee5d-67d57287c84c"
      },
      "source": [
        "plot_model(model=model,to_file='a.png',show_shapes=True)"
      ],
      "execution_count": 21,
      "outputs": [
        {
          "output_type": "execute_result",
          "data": {
            "image/png": "[encoded data removed]",
            "text/plain": [
              "<IPython.core.display.Image object>"
            ]
          },
          "metadata": {
            "tags": []
          },
          "execution_count": 21
        }
      ]
    },
    {
      "cell_type": "code",
      "metadata": {
        "id": "EGcCui84eccC",
        "colab_type": "code",
        "colab": {}
      },
      "source": [
        "from keras.optimizers import Adam"
      ],
      "execution_count": 0,
      "outputs": []
    },
    {
      "cell_type": "code",
      "metadata": {
        "id": "-Q9MvfC-em-K",
        "colab_type": "code",
        "colab": {}
      },
      "source": [
        "model.compile(loss='mean_squared_error', optimizer=Adam(learning_rate=0.000001) )"
      ],
      "execution_count": 0,
      "outputs": []
    },
    {
      "cell_type": "code",
      "metadata": {
        "id": "7Frdf6hVetRa",
        "colab_type": "code",
        "colab": {}
      },
      "source": [
        "import pandas as pd"
      ],
      "execution_count": 0,
      "outputs": []
    },
    {
      "cell_type": "code",
      "metadata": {
        "id": "1-bCO85Ye_Lx",
        "colab_type": "code",
        "colab": {}
      },
      "source": [
        "dataset = pd.read_csv('weight-height.csv')"
      ],
      "execution_count": 0,
      "outputs": []
    },
    {
      "cell_type": "code",
      "metadata": {
        "id": "0zdz30FpfBQC",
        "colab_type": "code",
        "colab": {}
      },
      "source": [
        "x=dataset['Height']\n",
        "y=dataset['Weight']"
      ],
      "execution_count": 0,
      "outputs": []
    },
    {
      "cell_type": "code",
      "metadata": {
        "id": "yk33s9bUfEgw",
        "colab_type": "code",
        "colab": {
          "base_uri": "https://localhost:8080/",
          "height": 706
        },
        "outputId": "7bd1b306-2f37-4637-c5ec-12a47db6b26d"
      },
      "source": [
        "model.fit(x,y, epochs=20)"
      ],
      "execution_count": 27,
      "outputs": [
        {
          "output_type": "stream",
          "text": [
            "Epoch 1/20\n",
            "10000/10000 [==============================] - 0s 48us/step - loss: 13606.7287\n",
            "Epoch 2/20\n",
            "10000/10000 [==============================] - 0s 25us/step - loss: 13601.8728\n",
            "Epoch 3/20\n",
            "10000/10000 [==============================] - 0s 25us/step - loss: 13597.0166\n",
            "Epoch 4/20\n",
            "10000/10000 [==============================] - 0s 24us/step - loss: 13592.1767\n",
            "Epoch 5/20\n",
            "10000/10000 [==============================] - 0s 26us/step - loss: 13587.3201\n",
            "Epoch 6/20\n",
            "10000/10000 [==============================] - 0s 24us/step - loss: 13582.4623\n",
            "Epoch 7/20\n",
            "10000/10000 [==============================] - 0s 25us/step - loss: 13577.6036\n",
            "Epoch 8/20\n",
            "10000/10000 [==============================] - 0s 24us/step - loss: 13572.7578\n",
            "Epoch 9/20\n",
            "10000/10000 [==============================] - 0s 24us/step - loss: 13567.9068\n",
            "Epoch 10/20\n",
            "10000/10000 [==============================] - 0s 24us/step - loss: 13563.0511\n",
            "Epoch 11/20\n",
            "10000/10000 [==============================] - 0s 24us/step - loss: 13558.1986\n",
            "Epoch 12/20\n",
            "10000/10000 [==============================] - 0s 24us/step - loss: 13553.3777\n",
            "Epoch 13/20\n",
            "10000/10000 [==============================] - 0s 24us/step - loss: 13548.5503\n",
            "Epoch 14/20\n",
            "10000/10000 [==============================] - 0s 25us/step - loss: 13543.7103\n",
            "Epoch 15/20\n",
            "10000/10000 [==============================] - 0s 26us/step - loss: 13538.8568\n",
            "Epoch 16/20\n",
            "10000/10000 [==============================] - 0s 24us/step - loss: 13534.0192\n",
            "Epoch 17/20\n",
            "10000/10000 [==============================] - 0s 24us/step - loss: 13529.1876\n",
            "Epoch 18/20\n",
            "10000/10000 [==============================] - 0s 24us/step - loss: 13524.3655\n",
            "Epoch 19/20\n",
            "10000/10000 [==============================] - 0s 24us/step - loss: 13519.5381\n",
            "Epoch 20/20\n",
            "10000/10000 [==============================] - 0s 24us/step - loss: 13514.7164\n"
          ],
          "name": "stdout"
        },
        {
          "output_type": "execute_result",
          "data": {
            "text/plain": [
              "<keras.callbacks.callbacks.History at 0x7f911e0e24e0>"
            ]
          },
          "metadata": {
            "tags": []
          },
          "execution_count": 27
        }
      ]
    },
    {
      "cell_type": "code",
      "metadata": {
        "id": "tBpP0I3efTtb",
        "colab_type": "code",
        "colab": {
          "base_uri": "https://localhost:8080/",
          "height": 34
        },
        "outputId": "bff58928-950a-4d45-fa48-25af49e90c79"
      },
      "source": [
        "model.get_weights()"
      ],
      "execution_count": 31,
      "outputs": [
        {
          "output_type": "execute_result",
          "data": {
            "text/plain": [
              "[array([[0.7382721]], dtype=float32), array([0.00625054], dtype=float32)]"
            ]
          },
          "metadata": {
            "tags": []
          },
          "execution_count": 31
        }
      ]
    },
    {
      "cell_type": "code",
      "metadata": {
        "id": "4hZWUrNPf52n",
        "colab_type": "code",
        "colab": {}
      },
      "source": [
        ""
      ],
      "execution_count": 0,
      "outputs": []
    }
  ]
}